{
 "cells": [
  {
   "cell_type": "markdown",
   "id": "3f60ad23",
   "metadata": {},
   "source": [
    "# Homework 1 CS156 Perceptron ML\n",
    "## Zihang Xiao 8/13"
   ]
  },
  {
   "cell_type": "code",
   "execution_count": 54,
   "id": "7fc31856",
   "metadata": {},
   "outputs": [],
   "source": [
    "import numpy as np \n",
    "from numpy import random \n",
    "import matplotlib.pyplot as plt"
   ]
  },
  {
   "cell_type": "markdown",
   "id": "79b73886",
   "metadata": {},
   "source": [
    "First cover all the thing with a loop "
   ]
  },
  {
   "cell_type": "markdown",
   "id": "c91d6b3a",
   "metadata": {},
   "source": [
    "Then generate the data set within the square [-1,1]x[-1,1]"
   ]
  },
  {
   "cell_type": "code",
   "execution_count": 55,
   "id": "4dffffd8",
   "metadata": {},
   "outputs": [
    {
     "name": "stdout",
     "output_type": "stream",
     "text": [
      "[ 0.4616925   0.21550781  0.65966263 -0.20840491 -0.22241945 -0.55628955\n",
      " -0.48718247  0.01285483  0.40270959  0.32827244] [ 0.33957777 -0.96589071 -0.97999233 -0.25355922 -0.3351599  -0.53393825\n",
      "  0.87573299 -0.12643076  0.16970763  0.39330266]\n"
     ]
    }
   ],
   "source": [
    "    x=random.uniform(-1,1,10)\n",
    "    y=random.uniform(-1,1,10)\n",
    "    random_line_x=random.uniform(-1,1,10)\n",
    "    random_line_y=random.uniform(-1,1,10)\n",
    "    print(x,y)"
   ]
  },
  {
   "cell_type": "code",
   "execution_count": 56,
   "id": "b0987ed1",
   "metadata": {},
   "outputs": [],
   "source": [
    "    # Generate two distinct random indices for x and y\n",
    "    index_1 = random.randint(0, len(x) - 1)\n",
    "    index_2 = random.randint(0, len(x) - 1)\n",
    "    while index_2 == index_1:  # Ensure distinct indices\n",
    "        index_2 = random.randint(0, len(x) - 1)\n",
    "\n",
    "    # Use the indices to get the x and y coordinates\n",
    "    random_point_1_x = random_line_x[index_1]\n",
    "    random_point_1_y = random_line_y[index_1]\n",
    "    random_point_2_x = random_line_x[index_2]\n",
    "    random_point_2_y = random_line_y[index_2]\n",
    "    #to do this point may have chance of overlapping with each other solve this"
   ]
  },
  {
   "cell_type": "code",
   "execution_count": 57,
   "id": "7f86fd36",
   "metadata": {},
   "outputs": [],
   "source": [
    "    def calculateline(x1,y1,x2,y2):\n",
    "        gradient=(y1-y2)/(x1-x2)\n",
    "        b=y2-gradient*x2\n",
    "        line=np.array([gradient,b])\n",
    "        return(line)"
   ]
  },
  {
   "cell_type": "code",
   "execution_count": 58,
   "id": "838edfd6",
   "metadata": {},
   "outputs": [
    {
     "name": "stdout",
     "output_type": "stream",
     "text": [
      "[ 0.04205213 -0.57514039]\n"
     ]
    }
   ],
   "source": [
    "    line=calculateline(random_point_1_x,random_point_1_y,random_point_2_x,random_point_2_y)\n",
    "    print(line)"
   ]
  },
  {
   "cell_type": "markdown",
   "id": "5902b580",
   "metadata": {},
   "source": [
    "classify the dot right now"
   ]
  },
  {
   "cell_type": "code",
   "execution_count": 59,
   "id": "fa7a2ab4",
   "metadata": {},
   "outputs": [
    {
     "name": "stdout",
     "output_type": "stream",
     "text": [
      "[[ 0.4616925   0.21550781  0.65966263 -0.20840491 -0.22241945 -0.55628955\n",
      "  -0.48718247  0.01285483  0.40270959  0.32827244]\n",
      " [ 0.33957777 -0.96589071 -0.97999233 -0.25355922 -0.3351599  -0.53393825\n",
      "   0.87573299 -0.12643076  0.16970763  0.39330266]]\n",
      "[-1.  1.  1. -1. -1. -1. -1. -1. -1. -1.]\n"
     ]
    }
   ],
   "source": [
    "    y_output=np.zeros(10)\n",
    "\n",
    "    for i in range(len(x)):\n",
    "        x_testpoint=(y[i]-line[1])/line[0]\n",
    "        if x_testpoint<x[i]:\n",
    "            y_output[i]=1\n",
    "        else:\n",
    "            y_output[i]=-1\n",
    "    X=(2,10)\n",
    "    X=np.zeros(X)\n",
    "    X[0,:]=x\n",
    "    X[1,:]=y\n",
    "    print(X)\n",
    "    print(y_output)"
   ]
  },
  {
   "cell_type": "markdown",
   "id": "b8e13632",
   "metadata": {},
   "source": [
    "# Data set part end\n",
    "Now we have y_output as the output and the X as the input dataset"
   ]
  },
  {
   "cell_type": "markdown",
   "id": "da25d717",
   "metadata": {},
   "source": [
    "# Now initialize the weight"
   ]
  },
  {
   "cell_type": "code",
   "execution_count": 60,
   "id": "fb303dd2",
   "metadata": {},
   "outputs": [
    {
     "name": "stdout",
     "output_type": "stream",
     "text": [
      "[[0. 0.]]\n"
     ]
    }
   ],
   "source": [
    "    weights=(1,2)\n",
    "    weights=np.zeros(weights)\n",
    "    print(weights)"
   ]
  },
  {
   "cell_type": "code",
   "execution_count": 61,
   "id": "1184400c",
   "metadata": {},
   "outputs": [
    {
     "name": "stdout",
     "output_type": "stream",
     "text": [
      "[[ 0.21550781 -0.96589071]]\n",
      "[[ 0.43792726 -0.63073081]]\n",
      "[[ 0.03521767 -0.80043844]]\n",
      "[[ 0.69488029 -1.78043078]]\n",
      "[[ 1.25116985 -1.24649253]]\n",
      "5\n"
     ]
    }
   ],
   "source": [
    "    status=(10)\n",
    "    status=np.zeros(status)\n",
    "    runtime=0\n",
    "    bias=[0]\n",
    "    learning_rate=1\n",
    "    new_status=(10)\n",
    "    new_status=np.zeros(new_status)\n",
    "    while not np.array_equal(status,y_output):\n",
    "        indices=np.where(new_status == 0)[0]\n",
    "        selected_index = np.random.choice(indices)\n",
    "        weights=weights+X[:,selected_index]*y_output[selected_index]\n",
    "        bias=bias+y_output[selected_index]\n",
    "        for i in range(len(X[0,:])):\n",
    "            sign_X=np.dot(weights,X[0:2,i])*learning_rate+bias\n",
    "            if sign_X>=0:\n",
    "                status[i]=1\n",
    "            elif sign_X<0:\n",
    "                status[i]=-1\n",
    "        runtime=runtime+1\n",
    "        new_status=status+y_output\n",
    "        print(weights)\n",
    "        if runtime>10001:\n",
    "            break\n",
    "    print(runtime)"
   ]
  },
  {
   "cell_type": "code",
   "execution_count": 62,
   "id": "8ad5e02d",
   "metadata": {},
   "outputs": [
    {
     "data": {
      "image/png": "[encoded data removed]",
      "text/plain": [
       "<Figure size 432x288 with 1 Axes>"
      ]
     },
     "metadata": {
      "needs_background": "light"
     },
     "output_type": "display_data"
    }
   ],
   "source": [
    "    points = list(zip(X[0], X[1]))\n",
    "    w1=weights[0,0]\n",
    "    w2=weights[0,1]\n",
    "    # Unzip the points for plotting\n",
    "    x, y = zip(*points)\n",
    "    line_y = np.array(x) * line[0] + line[1]\n",
    "    line_z = -(w1 / w2) * np.array(x)-bias/w2\n",
    "    # Plot the points\n",
    "    plt.scatter(x, y, c='g', marker='o')\n",
    "    plt.xlabel('X')\n",
    "    plt.ylabel('Y')\n",
    "    plt.title('Scatter Plot of Points')\n",
    "    plt.grid(True)\n",
    "    plt.plot(x, line_y, c='r')\n",
    "    plt.plot(x, line_z, c='b')\n",
    "    plt.show()"
   ]
  },
  {
   "cell_type": "code",
   "execution_count": null,
   "id": "dc6c2450",
   "metadata": {},
   "outputs": [],
   "source": []
  },
  {
   "cell_type": "code",
   "execution_count": null,
   "id": "2304c126",
   "metadata": {},
   "outputs": [],
   "source": []
  }
 ],
 "metadata": {
  "kernelspec": {
   "display_name": "Python 3 (ipykernel)",
   "language": "python",
   "name": "python3"
  },
  "language_info": {
   "codemirror_mode": {
    "name": "ipython",
    "version": 3
   },
   "file_extension": ".py",
   "mimetype": "text/x-python",
   "name": "python",
   "nbconvert_exporter": "python",
   "pygments_lexer": "ipython3",
   "version": "3.9.17"
  }
 },
 "nbformat": 4,
 "nbformat_minor": 5
}
